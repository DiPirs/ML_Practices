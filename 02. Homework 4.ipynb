{
 "cells": [
  {
   "cell_type": "markdown",
   "metadata": {},
   "source": [
    "# Постановка задачи.\n",
    "\n",
    "Решение задачи кластеризации с использованием трех методов:\n",
    "  1. KMeans\n",
    "  2. DBSCAN\n",
    "  3. Agglomerative Clustering"
   ]
  },
  {
   "cell_type": "markdown",
   "metadata": {},
   "source": [
    "Шаг 1. Импорт библиотек и загрузка данных"
   ]
  },
  {
   "cell_type": "code",
   "execution_count": 1,
   "metadata": {},
   "outputs": [
    {
     "data": {
      "text/html": [
       "<div>\n",
       "<style scoped>\n",
       "    .dataframe tbody tr th:only-of-type {\n",
       "        vertical-align: middle;\n",
       "    }\n",
       "\n",
       "    .dataframe tbody tr th {\n",
       "        vertical-align: top;\n",
       "    }\n",
       "\n",
       "    .dataframe thead th {\n",
       "        text-align: right;\n",
       "    }\n",
       "</style>\n",
       "<table border=\"1\" class=\"dataframe\">\n",
       "  <thead>\n",
       "    <tr style=\"text-align: right;\">\n",
       "      <th></th>\n",
       "      <th>age</th>\n",
       "      <th>workclass</th>\n",
       "      <th>fnlwgt</th>\n",
       "      <th>education</th>\n",
       "      <th>educational-num</th>\n",
       "      <th>marital-status</th>\n",
       "      <th>occupation</th>\n",
       "      <th>relationship</th>\n",
       "      <th>race</th>\n",
       "      <th>gender</th>\n",
       "      <th>capital-gain</th>\n",
       "      <th>capital-loss</th>\n",
       "      <th>hours-per-week</th>\n",
       "      <th>native-country</th>\n",
       "      <th>income</th>\n",
       "    </tr>\n",
       "  </thead>\n",
       "  <tbody>\n",
       "    <tr>\n",
       "      <th>0</th>\n",
       "      <td>25</td>\n",
       "      <td>Private</td>\n",
       "      <td>226802</td>\n",
       "      <td>11th</td>\n",
       "      <td>7</td>\n",
       "      <td>Never-married</td>\n",
       "      <td>Machine-op-inspct</td>\n",
       "      <td>Own-child</td>\n",
       "      <td>Black</td>\n",
       "      <td>Male</td>\n",
       "      <td>0</td>\n",
       "      <td>0</td>\n",
       "      <td>40</td>\n",
       "      <td>United-States</td>\n",
       "      <td>&lt;=50K</td>\n",
       "    </tr>\n",
       "    <tr>\n",
       "      <th>1</th>\n",
       "      <td>38</td>\n",
       "      <td>Private</td>\n",
       "      <td>89814</td>\n",
       "      <td>HS-grad</td>\n",
       "      <td>9</td>\n",
       "      <td>Married-civ-spouse</td>\n",
       "      <td>Farming-fishing</td>\n",
       "      <td>Husband</td>\n",
       "      <td>White</td>\n",
       "      <td>Male</td>\n",
       "      <td>0</td>\n",
       "      <td>0</td>\n",
       "      <td>50</td>\n",
       "      <td>United-States</td>\n",
       "      <td>&lt;=50K</td>\n",
       "    </tr>\n",
       "    <tr>\n",
       "      <th>2</th>\n",
       "      <td>28</td>\n",
       "      <td>Local-gov</td>\n",
       "      <td>336951</td>\n",
       "      <td>Assoc-acdm</td>\n",
       "      <td>12</td>\n",
       "      <td>Married-civ-spouse</td>\n",
       "      <td>Protective-serv</td>\n",
       "      <td>Husband</td>\n",
       "      <td>White</td>\n",
       "      <td>Male</td>\n",
       "      <td>0</td>\n",
       "      <td>0</td>\n",
       "      <td>40</td>\n",
       "      <td>United-States</td>\n",
       "      <td>&gt;50K</td>\n",
       "    </tr>\n",
       "    <tr>\n",
       "      <th>3</th>\n",
       "      <td>44</td>\n",
       "      <td>Private</td>\n",
       "      <td>160323</td>\n",
       "      <td>Some-college</td>\n",
       "      <td>10</td>\n",
       "      <td>Married-civ-spouse</td>\n",
       "      <td>Machine-op-inspct</td>\n",
       "      <td>Husband</td>\n",
       "      <td>Black</td>\n",
       "      <td>Male</td>\n",
       "      <td>7688</td>\n",
       "      <td>0</td>\n",
       "      <td>40</td>\n",
       "      <td>United-States</td>\n",
       "      <td>&gt;50K</td>\n",
       "    </tr>\n",
       "    <tr>\n",
       "      <th>4</th>\n",
       "      <td>18</td>\n",
       "      <td>?</td>\n",
       "      <td>103497</td>\n",
       "      <td>Some-college</td>\n",
       "      <td>10</td>\n",
       "      <td>Never-married</td>\n",
       "      <td>?</td>\n",
       "      <td>Own-child</td>\n",
       "      <td>White</td>\n",
       "      <td>Female</td>\n",
       "      <td>0</td>\n",
       "      <td>0</td>\n",
       "      <td>30</td>\n",
       "      <td>United-States</td>\n",
       "      <td>&lt;=50K</td>\n",
       "    </tr>\n",
       "  </tbody>\n",
       "</table>\n",
       "</div>"
      ],
      "text/plain": [
       "   age  workclass  fnlwgt     education  educational-num      marital-status  \\\n",
       "0   25    Private  226802          11th                7       Never-married   \n",
       "1   38    Private   89814       HS-grad                9  Married-civ-spouse   \n",
       "2   28  Local-gov  336951    Assoc-acdm               12  Married-civ-spouse   \n",
       "3   44    Private  160323  Some-college               10  Married-civ-spouse   \n",
       "4   18          ?  103497  Some-college               10       Never-married   \n",
       "\n",
       "          occupation relationship   race  gender  capital-gain  capital-loss  \\\n",
       "0  Machine-op-inspct    Own-child  Black    Male             0             0   \n",
       "1    Farming-fishing      Husband  White    Male             0             0   \n",
       "2    Protective-serv      Husband  White    Male             0             0   \n",
       "3  Machine-op-inspct      Husband  Black    Male          7688             0   \n",
       "4                  ?    Own-child  White  Female             0             0   \n",
       "\n",
       "   hours-per-week native-country income  \n",
       "0              40  United-States  <=50K  \n",
       "1              50  United-States  <=50K  \n",
       "2              40  United-States   >50K  \n",
       "3              40  United-States   >50K  \n",
       "4              30  United-States  <=50K  "
      ]
     },
     "execution_count": 1,
     "metadata": {},
     "output_type": "execute_result"
    }
   ],
   "source": [
    "import pandas as pd\n",
    "from sklearn.cluster import KMeans, DBSCAN, AgglomerativeClustering\n",
    "from sklearn.preprocessing import LabelEncoder, StandardScaler\n",
    "from sklearn.metrics import adjusted_rand_score\n",
    "\n",
    "data = pd.read_csv('adult.csv')\n",
    "data.head()"
   ]
  },
  {
   "cell_type": "markdown",
   "metadata": {},
   "source": [
    "Шаг 2. Подготовка данных\n",
    "\n",
    "Кодирование категориальных признаков и масштабирование числовых"
   ]
  },
  {
   "cell_type": "code",
   "execution_count": 2,
   "metadata": {},
   "outputs": [],
   "source": [
    "data_encoded = data.copy()\n",
    "\n",
    "label_encoders = {}\n",
    "for col in data_encoded.select_dtypes(include='object').columns:\n",
    "    if col != 'income':\n",
    "        label_encoders[col] = LabelEncoder()\n",
    "        data_encoded[col] = label_encoders[col].fit_transform(data_encoded[col])\n",
    "\n",
    "scaler = StandardScaler()\n",
    "numerical_cols = data_encoded.select_dtypes(include='int64').columns\n",
    "data_encoded[numerical_cols] = scaler.fit_transform(data_encoded[numerical_cols])"
   ]
  },
  {
   "cell_type": "markdown",
   "metadata": {},
   "source": [
    "Шаг 3. Реализация методов кластеризации"
   ]
  },
  {
   "cell_type": "markdown",
   "metadata": {},
   "source": [
    "KMeans"
   ]
  },
  {
   "cell_type": "code",
   "execution_count": 8,
   "metadata": {},
   "outputs": [
    {
     "name": "stdout",
     "output_type": "stream",
     "text": [
      "Adjusted Rand Index для KMeans: -0.006918496755986382\n",
      "Количество кластеров для KMeans: 5\n"
     ]
    }
   ],
   "source": [
    "kmeans = KMeans(n_clusters=5, random_state=42)\n",
    "kmeans_labels = kmeans.fit_predict(data_encoded.drop(columns=['income']))\n",
    "\n",
    "ari_kmeans = adjusted_rand_score(LabelEncoder().fit_transform(data['income']), kmeans_labels)\n",
    "print(f'Adjusted Rand Index для KMeans: {ari_kmeans}')\n",
    "print(f'Количество кластеров для KMeans: {len(set(kmeans_labels))}')"
   ]
  },
  {
   "cell_type": "markdown",
   "metadata": {},
   "source": [
    "DBSCAN"
   ]
  },
  {
   "cell_type": "code",
   "execution_count": 18,
   "metadata": {},
   "outputs": [
    {
     "name": "stdout",
     "output_type": "stream",
     "text": [
      "Adjusted Rand Index для DBSCAN: -0.0060328080207864105\n",
      "Количество кластеров для DBSCAN: 6\n"
     ]
    }
   ],
   "source": [
    "dbscan = DBSCAN(eps=2.0, min_samples=50)\n",
    "dbscan_labels = dbscan.fit_predict(data_encoded.drop(columns=['income']))\n",
    "\n",
    "ari_dbscan = adjusted_rand_score(LabelEncoder().fit_transform(data['income']), dbscan_labels)\n",
    "print(f'Adjusted Rand Index для DBSCAN: {ari_dbscan}')\n",
    "print(f'Количество кластеров для DBSCAN: {len(set(dbscan_labels)) - (1 if -1 in dbscan_labels else 0)}') \n"
   ]
  },
  {
   "cell_type": "markdown",
   "metadata": {},
   "source": [
    "Agglomerative Clustering"
   ]
  },
  {
   "cell_type": "code",
   "execution_count": 10,
   "metadata": {},
   "outputs": [
    {
     "name": "stdout",
     "output_type": "stream",
     "text": [
      "Adjusted Rand Index для Agglomerative Clustering: 0.11353725481301286\n",
      "Количество кластеров для Agglomerative Clustering: 5\n"
     ]
    }
   ],
   "source": [
    "agglo = AgglomerativeClustering(n_clusters=5)\n",
    "agglo_labels = agglo.fit_predict(data_encoded.drop(columns=['income']))\n",
    "\n",
    "ari_agglo = adjusted_rand_score(LabelEncoder().fit_transform(data['income']), agglo_labels)\n",
    "print(f'Adjusted Rand Index для Agglomerative Clustering: {ari_agglo}')\n",
    "print(f'Количество кластеров для Agglomerative Clustering: {len(set(agglo_labels))}')"
   ]
  },
  {
   "cell_type": "markdown",
   "metadata": {},
   "source": [
    "# Вывод"
   ]
  },
  {
   "cell_type": "markdown",
   "metadata": {},
   "source": [
    "* KMeans: Метод кластеризации с 5 кластерами показал значение Adjusted Rand Index (-0.0069), что указывает на довольно слабую связь между результатами кластеризации и истинными метками. Это свидетельствует о том, что KMeans не смог выявить четкую структуру данных, хотя алгоритм все же попытался разделить их на несколько групп. Возможно, стоит пересмотреть выбор признаков или попробовать другие методы для улучшения кластеризации, так как результат оставляет пространство для улучшений.\n",
    "\n",
    "* DBSCAN: В случае с DBSCAN, который обнаружил 6 кластеров, Adjusted Rand Index оказался равным -0.0060, что указывает на низкую согласованность кластеров с истинными метками. Этот результат также говорит о том, что DBSCAN не смог точно разделить данные на смысловые группы. Однако, учитывая, что DBSCAN не требует заранее заданного числа кластеров, результат может зависеть от выбранных параметров (например, значения eps и min_samples). Поэтому рекомендуется экспериментировать с этими параметрами, чтобы получить более адекватные результаты.\n",
    "\n",
    "* Агломеративная кластеризация: С 5 кластерами агломеративная кластеризация показала наибольшее значение Adjusted Rand Index (0.1135) среди всех методов, что, хоть и является относительно низким значением, указывает на некоторую структурированность данных. Это может означать, что метод способен выделить несколько значимых групп в данных, хотя результат всё же далек от идеала. Для улучшения качества кластеризации можно попробовать пересмотреть параметры или применить другие методы предобработки данных.\n",
    "\n",
    "Все три метода кластеризации продемонстрировали недостаточно высокие результаты в плане соответствия с истинными метками, что говорит о том, что данные либо плохо разделяются, либо выбранные алгоритмы не подходят для данной задачи. Стоит попробовать улучшить представление данных, изменить параметры алгоритмов или даже рассмотреть другие методы кластеризации. В частности, для DBSCAN может быть полезно попробовать подобрать параметры eps и min_samples с целью получения более точных кластеров, а для KMeans и агломеративной кластеризации — улучшить выбор признаков и применить другие способы нормализации данных."
   ]
  }
 ],
 "metadata": {
  "kernelspec": {
   "display_name": "Python 3",
   "language": "python",
   "name": "python3"
  },
  "language_info": {
   "codemirror_mode": {
    "name": "ipython",
    "version": 3
   },
   "file_extension": ".py",
   "mimetype": "text/x-python",
   "name": "python",
   "nbconvert_exporter": "python",
   "pygments_lexer": "ipython3",
   "version": "3.13.0"
  }
 },
 "nbformat": 4,
 "nbformat_minor": 2
}
